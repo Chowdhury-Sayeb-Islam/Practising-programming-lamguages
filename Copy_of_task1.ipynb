{
  "nbformat": 4,
  "nbformat_minor": 0,
  "metadata": {
    "colab": {
      "provenance": [],
      "collapsed_sections": [],
      "authorship_tag": "ABX9TyPJ92SImWgp4GbIZ8h4EEqf",
      "include_colab_link": true
    },
    "kernelspec": {
      "name": "python3",
      "display_name": "Python 3"
    },
    "language_info": {
      "name": "python"
    }
  },
  "cells": [
    {
      "cell_type": "markdown",
      "metadata": {
        "id": "view-in-github",
        "colab_type": "text"
      },
      "source": [
        "<a href=\"https://colab.research.google.com/github/Sayeb2001/Sayeb2001/blob/main/Copy_of_task1.ipynb\" target=\"_parent\"><img src=\"https://colab.research.google.com/assets/colab-badge.svg\" alt=\"Open In Colab\"/></a>"
      ]
    },
    {
      "cell_type": "code",
      "execution_count": null,
      "metadata": {
        "id": "6qYxcN-XomJ8"
      },
      "outputs": [],
      "source": [
        "a=int(input(\"please, give me a number= \"))\n",
        "b=int(input(\"please, give me a number= \"))\n",
        "x=a*b\n",
        "y=a-b  \n",
        "z=a%b\n",
        "z1=a//b\n",
        "print(\"Product=\", x)\n",
        "print(\"Difference=\", y)\n",
        "print(\"Modulus=\", z)\n",
        "print(\"Floor Division=\", z1)"
      ]
    }
  ]
}
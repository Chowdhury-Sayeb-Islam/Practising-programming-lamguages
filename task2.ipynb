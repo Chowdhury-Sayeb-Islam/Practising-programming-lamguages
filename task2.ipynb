{
  "nbformat": 4,
  "nbformat_minor": 0,
  "metadata": {
    "colab": {
      "provenance": [],
      "authorship_tag": "ABX9TyPQqG3G1Of0jC/1lgaiQpuJ",
      "include_colab_link": true
    },
    "kernelspec": {
      "name": "python3",
      "display_name": "Python 3"
    },
    "language_info": {
      "name": "python"
    }
  },
  "cells": [
    {
      "cell_type": "markdown",
      "metadata": {
        "id": "view-in-github",
        "colab_type": "text"
      },
      "source": [
        "<a href=\"https://colab.research.google.com/github/Sayeb2001/Sayeb2001/blob/main/task2.ipynb\" target=\"_parent\"><img src=\"https://colab.research.google.com/assets/colab-badge.svg\" alt=\"Open In Colab\"/></a>"
      ]
    },
    {
      "cell_type": "code",
      "execution_count": 4,
      "metadata": {
        "colab": {
          "base_uri": "https://localhost:8080/"
        },
        "id": "MjwrebWzxdz7",
        "outputId": "30139ac7-c527-4ab8-cf11-4d8364929cf8"
      },
      "outputs": [
        {
          "output_type": "stream",
          "name": "stdout",
          "text": [
            "11\n",
            "0\n",
            "2\n",
            "-3\n"
          ]
        }
      ],
      "source": [
        "a=-78//-7\n",
        "b=-9//-65\n",
        "c=23//9\n",
        "d=-8//3\n",
        "print( a)\n",
        "print( b)\n",
        "print( c)\n",
        "print(d)"
      ]
    },
    {
      "cell_type": "code",
      "source": [
        "a=-78//-7\n",
        "b=-9//-65\n",
        "c=23//9\n",
        "d=-8//3\n",
        "print(a)\n",
        "print(b)\n",
        "print(c)\n",
        "print(d)"
      ],
      "metadata": {
        "id": "Tni9nwdTydfH"
      },
      "execution_count": null,
      "outputs": []
    }
  ]
}